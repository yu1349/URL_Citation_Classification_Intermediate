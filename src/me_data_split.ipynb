{
 "cells": [
  {
   "cell_type": "code",
   "execution_count": 82,
   "metadata": {},
   "outputs": [],
   "source": [
    "import os\n",
    "import random\n",
<<<<<<< HEAD
    "import numpy as np"
   ]
  },
  {
   "cell_type": "code",
   "execution_count": 3,
   "metadata": {},
   "outputs": [],
   "source": [
=======
    "import numpy as np\n",
>>>>>>> 8127d13ad7cb4a8a6de5a3d0c85e1c4352665886
    "import pandas as pd\n",
    "from collections import Counter"
   ]
  },
  {
   "cell_type": "code",
<<<<<<< HEAD
   "execution_count": 5,
=======
   "execution_count": 83,
   "metadata": {},
   "outputs": [],
   "source": [
    "# 250124次点でのアノテーションデータ量\n",
    "ANNO_IDX = 435"
   ]
  },
  {
   "cell_type": "code",
   "execution_count": 84,
>>>>>>> 8127d13ad7cb4a8a6de5a3d0c85e1c4352665886
   "metadata": {},
   "outputs": [
    {
     "data": {
      "text/html": [
       "<div>\n",
       "<style scoped>\n",
       "    .dataframe tbody tr th:only-of-type {\n",
       "        vertical-align: middle;\n",
       "    }\n",
       "\n",
       "    .dataframe tbody tr th {\n",
       "        vertical-align: top;\n",
       "    }\n",
       "\n",
       "    .dataframe thead th {\n",
       "        text-align: right;\n",
       "    }\n",
       "</style>\n",
       "<table border=\"1\" class=\"dataframe\">\n",
       "  <thead>\n",
       "    <tr style=\"text-align: right;\">\n",
       "      <th></th>\n",
       "      <th>url</th>\n",
       "      <th>passage-title</th>\n",
       "      <th>citation-info</th>\n",
       "      <th>citation-paragraph</th>\n",
       "      <th>role</th>\n",
       "      <th>type</th>\n",
       "      <th>year</th>\n",
       "      <th>citation-type</th>\n",
       "      <th>tsunokake_id</th>\n",
       "    </tr>\n",
       "  </thead>\n",
       "  <tbody>\n",
       "    <tr>\n",
       "      <th>0</th>\n",
       "      <td>https://github.com/mdelhoneux/uuparser-compos...</td>\n",
       "      <td>['4 Composition in a K&amp;G Parser']</td>\n",
       "      <td>4 The code can be found at https://github.com/...</td>\n",
       "      <td>Parser We use UUParser, a variant of the K&amp;G t...</td>\n",
       "      <td>Method</td>\n",
       "      <td>Code</td>\n",
       "      <td>2019</td>\n",
       "      <td>Footnote</td>\n",
       "      <td>0</td>\n",
       "    </tr>\n",
       "    <tr>\n",
       "      <th>1</th>\n",
       "      <td>http://hdl.handle.net/11234/1-2364</td>\n",
       "      <td>['5 What Correlates with Difficulty?']</td>\n",
       "      <td>Milan Straka and Jana Strakov. 2017. Tokenizin...</td>\n",
       "      <td>Head-POS Entropy Dehouck and Denis (2018) prop...</td>\n",
       "      <td>Material</td>\n",
       "      <td>Knowledge</td>\n",
       "      <td>2019</td>\n",
       "      <td>Reference</td>\n",
       "      <td>1</td>\n",
       "    </tr>\n",
       "    <tr>\n",
       "      <th>2</th>\n",
       "      <td>http://sjmielke.com/papers/tokenize/</td>\n",
       "      <td>['D Data selection: Europarl']</td>\n",
       "      <td>31 http://sjmielke.com/papers/tokenize/</td>\n",
       "      <td>Finally, it should be said that the text in Co...</td>\n",
       "      <td>Method</td>\n",
       "      <td>Tool</td>\n",
       "      <td>2019</td>\n",
       "      <td>Footnote</td>\n",
       "      <td>2</td>\n",
       "    </tr>\n",
       "    <tr>\n",
       "      <th>3</th>\n",
       "      <td>https://developer.twitter.com/en/docs.html</td>\n",
       "      <td>['2 Problem Formulation', '2.2 Data']</td>\n",
       "      <td>NaN</td>\n",
       "      <td>• Negative examples: We have col-lected 1% of ...</td>\n",
       "      <td>Method</td>\n",
       "      <td>Tool</td>\n",
       "      <td>2019</td>\n",
       "      <td>Body</td>\n",
       "      <td>5</td>\n",
       "    </tr>\n",
       "    <tr>\n",
       "      <th>4</th>\n",
       "      <td>https://www.mturk.com/</td>\n",
       "      <td>['5 User study']</td>\n",
       "      <td>Amazon. 2005. MTurk. (https://www.mturk.com/).</td>\n",
       "      <td>To verify whether human evaluators are in agre...</td>\n",
       "      <td>Method</td>\n",
       "      <td>Tool</td>\n",
       "      <td>2019</td>\n",
       "      <td>Reference</td>\n",
       "      <td>6</td>\n",
       "    </tr>\n",
       "  </tbody>\n",
       "</table>\n",
       "</div>"
      ],
      "text/plain": [
       "                                                 url  \\\n",
       "0   https://github.com/mdelhoneux/uuparser-compos...   \n",
       "1                 http://hdl.handle.net/11234/1-2364   \n",
       "2               http://sjmielke.com/papers/tokenize/   \n",
       "3         https://developer.twitter.com/en/docs.html   \n",
       "4                             https://www.mturk.com/   \n",
       "\n",
       "                             passage-title  \\\n",
       "0        ['4 Composition in a K&G Parser']   \n",
       "1   ['5 What Correlates with Difficulty?']   \n",
       "2           ['D Data selection: Europarl']   \n",
       "3    ['2 Problem Formulation', '2.2 Data']   \n",
       "4                         ['5 User study']   \n",
       "\n",
       "                                       citation-info  \\\n",
       "0  4 The code can be found at https://github.com/...   \n",
       "1  Milan Straka and Jana Strakov. 2017. Tokenizin...   \n",
       "2            31 http://sjmielke.com/papers/tokenize/   \n",
       "3                                                NaN   \n",
       "4     Amazon. 2005. MTurk. (https://www.mturk.com/).   \n",
       "\n",
       "                                  citation-paragraph      role       type  \\\n",
       "0  Parser We use UUParser, a variant of the K&G t...    Method       Code   \n",
       "1  Head-POS Entropy Dehouck and Denis (2018) prop...  Material  Knowledge   \n",
       "2  Finally, it should be said that the text in Co...    Method       Tool   \n",
       "3  • Negative examples: We have col-lected 1% of ...    Method       Tool   \n",
       "4  To verify whether human evaluators are in agre...    Method       Tool   \n",
       "\n",
       "   year citation-type  tsunokake_id  \n",
       "0  2019      Footnote             0  \n",
       "1  2019     Reference             1  \n",
       "2  2019      Footnote             2  \n",
       "3  2019          Body             5  \n",
       "4  2019     Reference             6  "
      ]
     },
     "metadata": {},
     "output_type": "display_data"
    }
   ],
   "source": [
    "# データの読み込み\n",
    "full_data = pd.read_csv(\"../data/all_data.csv\", encoding=\"utf-8\", usecols=['id', 'url', 'passage-title', 'citation-info', 'citation-paragraph', 'citation-type', 'role','type', 'year'], index_col=0)\n",
    "full_data['tsunokake_id'] = full_data.index\n",
    "## 使用するのはRoleがMaterialとMethodであるもののみ\n",
    "choice_data = full_data.query(\"role == 'Method' | role == 'Material'\").reset_index().drop('id', axis=1)\n",
    "display(choice_data.head())"
   ]
  },
  {
   "cell_type": "code",
   "execution_count": 85,
   "metadata": {},
   "outputs": [
    {
     "data": {
      "text/plain": [
       "[np.int64(2001),\n",
       " np.int64(2002),\n",
       " np.int64(2003),\n",
       " np.int64(2004),\n",
       " np.int64(2005),\n",
       " np.int64(2006),\n",
       " np.int64(2007),\n",
       " np.int64(2008),\n",
       " np.int64(2009),\n",
       " np.int64(2010),\n",
       " np.int64(2011),\n",
       " np.int64(2012),\n",
       " np.int64(2013),\n",
       " np.int64(2014),\n",
       " np.int64(2015),\n",
       " np.int64(2016),\n",
       " np.int64(2017),\n",
       " np.int64(2018),\n",
       " np.int64(2019),\n",
       " np.int64(2020),\n",
       " np.int64(2021)]"
      ]
     },
     "execution_count": 85,
     "metadata": {},
     "output_type": "execute_result"
    }
   ],
   "source": [
    "sorted(choice_data['year'].unique())"
   ]
  },
  {
   "cell_type": "code",
<<<<<<< HEAD
   "execution_count": null,
=======
   "execution_count": 86,
>>>>>>> 8127d13ad7cb4a8a6de5a3d0c85e1c4352665886
   "metadata": {},
   "outputs": [
    {
     "name": "stdout",
     "output_type": "stream",
     "text": [
      "train_size::: 1655\n",
      "test_size::: 317\n",
      "train_ids::: Index([   0,    1,    2,    3,    4,    5,    6,    7,    8,    9,\n",
      "       ...\n",
      "       1962, 1963, 1964, 1965, 1966, 1967, 1968, 1969, 1970, 1971],\n",
      "      dtype='int64', length=1655)\n",
      "test_ids::: Index([  46,   48,   49,   50,   51,   52,   53,   65,   66,   68,\n",
      "       ...\n",
      "       1922, 1923, 1924, 1925, 1926, 1927, 1928, 1929, 1957, 1958],\n",
      "      dtype='int64', length=317)\n"
     ]
    }
   ],
   "source": [
    "# split train & test based on \"year\"\n",
    "## full test data = 317\n",
    "# test_df = choice_data[:ANNO_IDX-1].query(\"year==2021\")\n",
    "train_df = choice_data.query(\"year<2021\")\n",
    "\n",
    "test_df = choice_data.query(\"year==2021\")\n",
    "# train_df = choice_data.query(\"year<2021\")\n",
    "\n",
    "print(\"train_size:::\", len(train_df))\n",
    "print(\"test_size:::\", len(test_df))\n",
    "\n",
    "print(\"train_ids:::\", train_df.index)\n",
    "print(\"test_ids:::\", test_df.index)"
   ]
  },
  {
   "cell_type": "code",
   "execution_count": 87,
   "metadata": {},
   "outputs": [
    {
     "name": "stdout",
     "output_type": "stream",
     "text": [
      "Counter({2019: 78, 2021: 78, 2020: 53, 2016: 42, 2017: 33, 2018: 29, 2014: 23, 2009: 15, 2006: 14, 2012: 13, 2015: 12, 2003: 8, 2005: 7, 2011: 7, 2008: 6, 2010: 6, 2004: 5, 2013: 3, 2007: 1, 2001: 1})\n"
     ]
    }
   ],
   "source": [
    "# check years of train_df\n",
    "print(Counter(train_df['year']))"
   ]
  },
  {
   "cell_type": "code",
   "execution_count": 88,
   "metadata": {},
   "outputs": [],
   "source": [
    "def split_years(lst, index, seed:int=0):\n",
    "    if seed is not None:\n",
    "        random.seed(seed)\n",
    "\n",
    "    # 各年号の出現回数をカウント\n",
    "    year_counts = Counter(lst)\n",
    "\n",
    "    # 各年号から抽出可能な最大数\n",
    "    max_count = min(year_counts.values())\n",
    "\n",
    "    # 各年号をバランスよく抽出できる最大数を計算\n",
    "    total_balanced_count = max_count * len(year_counts)\n",
    "\n",
    "    if index > total_balanced_count:\n",
    "        # raise ValueError(\"The specified INDEX exceeds the maximum balanced extraction limit.\")\n",
    "        pass\n",
    "\n",
    "    # lst1にランダムに選ばれる要素のインデックスを格納\n",
    "    lst1_indices = []\n",
    "\n",
    "    # 各年号から均等にインデックスを抽出\n",
    "    for year in year_counts:\n",
    "        year_indices = [i for i, y in enumerate(lst) if y == year]\n",
    "        count_to_sample = min(index // len(year_counts), len(year_indices))\n",
    "        lst1_indices.extend(random.sample(year_indices, count_to_sample))\n",
    "\n",
    "    # 残りのインデックスを補充\n",
    "    remaining_count = index - len(lst1_indices)\n",
    "    if remaining_count > 0:\n",
    "        remaining_indices = [i for i in range(len(lst)) if i not in lst1_indices]\n",
    "        lst1_indices.extend(random.sample(remaining_indices, remaining_count))\n",
    "\n",
    "    # lst2はlstからlst1の要素を除いたリストのインデックス\n",
    "    lst2_indices = [i for i in range(len(lst)) if i not in lst1_indices]\n",
    "\n",
    "    return lst1_indices, lst2_indices\n"
   ]
  },
  {
   "cell_type": "code",
   "execution_count": 89,
   "metadata": {},
   "outputs": [],
   "source": [
    "# 各年号が開発に含まれるように分割\n",
    "dev_ids, train_ids = split_years(train_df['year'].to_list(), len(test_df))"
   ]
  },
  {
   "cell_type": "code",
   "execution_count": 90,
   "metadata": {},
   "outputs": [
    {
     "name": "stdout",
     "output_type": "stream",
     "text": [
      "[227, 231, 5, 225, 396, 395, 13, 12, 349, 176, 242, 118, 166, 18, 143, 62, 61, 297, 279, 90, 180, 331, 429, 320, 147, 196, 137, 68, 191, 293, 391, 47, 64, 220, 185, 350, 420, 81, 282, 370, 353, 85, 433, 354, 112, 121, 308, 141, 423, 123, 409, 211, 284, 335, 286, 312, 109, 332, 129, 139, 82, 318, 261, 51, 45, 187, 298, 285, 60, 175, 323, 170, 413, 72, 321, 195, 316, 117]\n",
      "[0, 1, 2, 3, 4, 6, 7, 8, 9, 10, 11, 14, 15, 16, 17, 19, 20, 21, 22, 23, 24, 25, 26, 27, 28, 29, 30, 31, 32, 33, 34, 35, 36, 37, 38, 39, 40, 41, 42, 43, 44, 46, 48, 49, 50, 52, 53, 54, 55, 56, 57, 58, 59, 63, 65, 66, 67, 69, 70, 71, 73, 74, 75, 76, 77, 78, 79, 80, 83, 84, 86, 87, 88, 89, 91, 92, 93, 94, 95, 96, 97, 98, 99, 100, 101, 102, 103, 104, 105, 106, 107, 108, 110, 111, 113, 114, 115, 116, 119, 120, 122, 124, 125, 126, 127, 128, 130, 131, 132, 133, 134, 135, 136, 138, 140, 142, 144, 145, 146, 148, 149, 150, 151, 152, 153, 154, 155, 156, 157, 158, 159, 160, 161, 162, 163, 164, 165, 167, 168, 169, 171, 172, 173, 174, 177, 178, 179, 181, 182, 183, 184, 186, 188, 189, 190, 192, 193, 194, 197, 198, 199, 200, 201, 202, 203, 204, 205, 206, 207, 208, 209, 210, 212, 213, 214, 215, 216, 217, 218, 219, 221, 222, 223, 224, 226, 228, 229, 230, 232, 233, 234, 235, 236, 237, 238, 239, 240, 241, 243, 244, 245, 246, 247, 248, 249, 250, 251, 252, 253, 254, 255, 256, 257, 258, 259, 260, 262, 263, 264, 265, 266, 267, 268, 269, 270, 271, 272, 273, 274, 275, 276, 277, 278, 280, 281, 283, 287, 288, 289, 290, 291, 292, 294, 295, 296, 299, 300, 301, 302, 303, 304, 305, 306, 307, 309, 310, 311, 313, 314, 315, 317, 319, 322, 324, 325, 326, 327, 328, 329, 330, 333, 334, 336, 337, 338, 339, 340, 341, 342, 343, 344, 345, 346, 347, 348, 351, 352, 355, 356, 357, 358, 359, 360, 361, 362, 363, 364, 365, 366, 367, 368, 369, 371, 372, 373, 374, 375, 376, 377, 378, 379, 380, 381, 382, 383, 384, 385, 386, 387, 388, 389, 390, 392, 393, 394, 397, 398, 399, 400, 401, 402, 403, 404, 405, 406, 407, 408, 410, 411, 412, 414, 415, 416, 417, 418, 419, 421, 422, 424, 425, 426, 427, 428, 430, 431, 432]\n"
     ]
    }
   ],
   "source": [
    "# インデックスの確認\n",
    "print(dev_ids)\n",
    "print(train_ids)"
   ]
  },
  {
   "cell_type": "code",
   "execution_count": 91,
   "metadata": {},
   "outputs": [
    {
     "name": "stdout",
     "output_type": "stream",
     "text": [
      "Counter({np.int64(2020): 7, np.int64(2021): 6, np.int64(2017): 6, np.int64(2019): 5, np.int64(2016): 5, np.int64(2018): 5, np.int64(2014): 4, np.int64(2009): 4, np.int64(2015): 4, np.int64(2012): 4, np.int64(2010): 4, np.int64(2006): 4, np.int64(2005): 3, np.int64(2004): 3, np.int64(2011): 3, np.int64(2013): 3, np.int64(2008): 3, np.int64(2003): 3, np.int64(2007): 1, np.int64(2001): 1})\n",
      "Counter({np.int64(2019): 73, np.int64(2021): 72, np.int64(2020): 46, np.int64(2016): 37, np.int64(2017): 27, np.int64(2018): 24, np.int64(2014): 19, np.int64(2009): 11, np.int64(2006): 10, np.int64(2012): 9, np.int64(2015): 8, np.int64(2003): 5, np.int64(2005): 4, np.int64(2011): 4, np.int64(2008): 3, np.int64(2004): 2, np.int64(2010): 2})\n"
     ]
    }
   ],
   "source": [
    "# 開発と学習の確認\n",
    "dev_count = []\n",
    "for id in dev_ids:\n",
    "    dev_count.append(train_df['year'][id])\n",
    "print(Counter(dev_count))\n",
    "train_count = []\n",
    "for id in train_ids:\n",
    "    train_count.append(train_df['year'][id])\n",
    "print(Counter(train_count))"
   ]
  },
  {
   "cell_type": "code",
   "execution_count": 92,
   "metadata": {},
   "outputs": [
    {
     "name": "stdout",
     "output_type": "stream",
     "text": [
      "ok\n"
     ]
    }
   ],
   "source": [
    "# サイズチェック\n",
    "if (len(dev_ids) == len(test_df)) and (len(train_ids) + len(dev_ids) + len(test_df) == len(train_df) + len(test_df)):\n",
    "    print('ok')"
   ]
  },
  {
   "cell_type": "code",
   "execution_count": 93,
   "metadata": {},
   "outputs": [],
   "source": [
    "with open('../data/few_data_split/test_ids.txt', 'w') as test_idx_file:\n",
    "    for test_id in test_df.index:\n",
    "        test_idx_file.write(str(test_id)+'\\n')\n",
    "\n",
    "with open('../data/few_data_split/dev_ids.txt', 'w') as dev_idx_file:\n",
    "    for dev_id in dev_ids:\n",
    "        dev_idx_file.write(str(dev_id)+'\\n')\n",
    "\n",
    "with open('../data/few_data_split/train_ids.txt', 'w') as train_idx_file:\n",
    "    for train_id in train_ids:\n",
    "        train_idx_file.write(str(train_id)+'\\n')"
   ]
  }
 ],
 "metadata": {
  "kernelspec": {
   "display_name": "laptop_me",
   "language": "python",
   "name": "python3"
  },
  "language_info": {
   "codemirror_mode": {
    "name": "ipython",
    "version": 3
   },
   "file_extension": ".py",
   "mimetype": "text/x-python",
   "name": "python",
   "nbconvert_exporter": "python",
   "pygments_lexer": "ipython3",
   "version": "3.12.8"
  }
 },
 "nbformat": 4,
 "nbformat_minor": 2
}
