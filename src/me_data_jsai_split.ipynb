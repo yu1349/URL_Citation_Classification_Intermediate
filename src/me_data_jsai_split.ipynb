{
 "cells": [
  {
   "cell_type": "code",
   "execution_count": 2,
   "metadata": {},
   "outputs": [],
   "source": [
    "import os\n",
    "import torch\n",
    "from datasets import load_dataset, Dataset\n",
    "import pandas as pd\n",
    "from transformers import (\n",
    "    AutoModelForCausalLM,\n",
    "    AutoModel,\n",
    "    AutoTokenizer,\n",
    "    BitsAndBytesConfig,\n",
    "    HfArgumentParser,\n",
    "    TrainingArguments,\n",
    "    pipeline,\n",
    "    logging,\n",
    ")\n",
    "import random\n",
    "import numpy as np"
   ]
  },
  {
   "cell_type": "code",
   "execution_count": 3,
   "metadata": {},
   "outputs": [],
   "source": [
    "import pandas as pd\n",
    "import re\n",
    "import difflib\n",
    "import json"
   ]
  },
  {
   "cell_type": "code",
   "execution_count": 4,
   "metadata": {},
   "outputs": [],
   "source": [
    "ANNO_IDX = 435"
   ]
  },
  {
   "cell_type": "code",
   "execution_count": 5,
   "metadata": {},
   "outputs": [
    {
     "data": {
      "text/html": [
       "<div>\n",
       "<style scoped>\n",
       "    .dataframe tbody tr th:only-of-type {\n",
       "        vertical-align: middle;\n",
       "    }\n",
       "\n",
       "    .dataframe tbody tr th {\n",
       "        vertical-align: top;\n",
       "    }\n",
       "\n",
       "    .dataframe thead th {\n",
       "        text-align: right;\n",
       "    }\n",
       "</style>\n",
       "<table border=\"1\" class=\"dataframe\">\n",
       "  <thead>\n",
       "    <tr style=\"text-align: right;\">\n",
       "      <th></th>\n",
       "      <th>url</th>\n",
       "      <th>passage-title</th>\n",
       "      <th>citation-info</th>\n",
       "      <th>citation-paragraph</th>\n",
       "      <th>role</th>\n",
       "      <th>type</th>\n",
       "      <th>year</th>\n",
       "      <th>citation-type</th>\n",
       "      <th>tsunokake_id</th>\n",
       "    </tr>\n",
       "  </thead>\n",
       "  <tbody>\n",
       "    <tr>\n",
       "      <th>0</th>\n",
       "      <td>https://github.com/mdelhoneux/uuparser-compos...</td>\n",
       "      <td>['4 Composition in a K&amp;G Parser']</td>\n",
       "      <td>4 The code can be found at https://github.com/...</td>\n",
       "      <td>Parser We use UUParser, a variant of the K&amp;G t...</td>\n",
       "      <td>Method</td>\n",
       "      <td>Code</td>\n",
       "      <td>2019</td>\n",
       "      <td>Footnote</td>\n",
       "      <td>0</td>\n",
       "    </tr>\n",
       "    <tr>\n",
       "      <th>1</th>\n",
       "      <td>http://hdl.handle.net/11234/1-2364</td>\n",
       "      <td>['5 What Correlates with Difficulty?']</td>\n",
       "      <td>Milan Straka and Jana Strakov. 2017. Tokenizin...</td>\n",
       "      <td>Head-POS Entropy Dehouck and Denis (2018) prop...</td>\n",
       "      <td>Material</td>\n",
       "      <td>Knowledge</td>\n",
       "      <td>2019</td>\n",
       "      <td>Reference</td>\n",
       "      <td>1</td>\n",
       "    </tr>\n",
       "    <tr>\n",
       "      <th>2</th>\n",
       "      <td>http://sjmielke.com/papers/tokenize/</td>\n",
       "      <td>['D Data selection: Europarl']</td>\n",
       "      <td>31 http://sjmielke.com/papers/tokenize/</td>\n",
       "      <td>Finally, it should be said that the text in Co...</td>\n",
       "      <td>Method</td>\n",
       "      <td>Tool</td>\n",
       "      <td>2019</td>\n",
       "      <td>Footnote</td>\n",
       "      <td>2</td>\n",
       "    </tr>\n",
       "    <tr>\n",
       "      <th>3</th>\n",
       "      <td>https://developer.twitter.com/en/docs.html</td>\n",
       "      <td>['2 Problem Formulation', '2.2 Data']</td>\n",
       "      <td>NaN</td>\n",
       "      <td>• Negative examples: We have col-lected 1% of ...</td>\n",
       "      <td>Method</td>\n",
       "      <td>Tool</td>\n",
       "      <td>2019</td>\n",
       "      <td>Body</td>\n",
       "      <td>5</td>\n",
       "    </tr>\n",
       "    <tr>\n",
       "      <th>4</th>\n",
       "      <td>https://www.mturk.com/</td>\n",
       "      <td>['5 User study']</td>\n",
       "      <td>Amazon. 2005. MTurk. (https://www.mturk.com/).</td>\n",
       "      <td>To verify whether human evaluators are in agre...</td>\n",
       "      <td>Method</td>\n",
       "      <td>Tool</td>\n",
       "      <td>2019</td>\n",
       "      <td>Reference</td>\n",
       "      <td>6</td>\n",
       "    </tr>\n",
       "  </tbody>\n",
       "</table>\n",
       "</div>"
      ],
      "text/plain": [
       "                                                 url  \\\n",
       "0   https://github.com/mdelhoneux/uuparser-compos...   \n",
       "1                 http://hdl.handle.net/11234/1-2364   \n",
       "2               http://sjmielke.com/papers/tokenize/   \n",
       "3         https://developer.twitter.com/en/docs.html   \n",
       "4                             https://www.mturk.com/   \n",
       "\n",
       "                             passage-title  \\\n",
       "0        ['4 Composition in a K&G Parser']   \n",
       "1   ['5 What Correlates with Difficulty?']   \n",
       "2           ['D Data selection: Europarl']   \n",
       "3    ['2 Problem Formulation', '2.2 Data']   \n",
       "4                         ['5 User study']   \n",
       "\n",
       "                                       citation-info  \\\n",
       "0  4 The code can be found at https://github.com/...   \n",
       "1  Milan Straka and Jana Strakov. 2017. Tokenizin...   \n",
       "2            31 http://sjmielke.com/papers/tokenize/   \n",
       "3                                                NaN   \n",
       "4     Amazon. 2005. MTurk. (https://www.mturk.com/).   \n",
       "\n",
       "                                  citation-paragraph      role       type  \\\n",
       "0  Parser We use UUParser, a variant of the K&G t...    Method       Code   \n",
       "1  Head-POS Entropy Dehouck and Denis (2018) prop...  Material  Knowledge   \n",
       "2  Finally, it should be said that the text in Co...    Method       Tool   \n",
       "3  • Negative examples: We have col-lected 1% of ...    Method       Tool   \n",
       "4  To verify whether human evaluators are in agre...    Method       Tool   \n",
       "\n",
       "   year citation-type  tsunokake_id  \n",
       "0  2019      Footnote             0  \n",
       "1  2019     Reference             1  \n",
       "2  2019      Footnote             2  \n",
       "3  2019          Body             5  \n",
       "4  2019     Reference             6  "
      ]
     },
     "metadata": {},
     "output_type": "display_data"
    }
   ],
   "source": [
    "# データの読み込み\n",
    "full_data = pd.read_csv(\"/data/group1/z40436a/ME/URL_Citation_Classification_Intermediate/data/all_data.csv\", encoding=\"utf-8\", usecols=['id', 'url', 'passage-title', 'citation-info', 'citation-paragraph', 'citation-type', 'role','type', 'year'], index_col=0)\n",
    "full_data['tsunokake_id'] = full_data.index\n",
    "## 使用するのはRoleがMaterialとMethodであるもののみ\n",
    "choice_data = full_data.query(\"role == 'Method' | role == 'Material'\").reset_index().drop('id', axis=1)\n",
    "display(choice_data.head())"
   ]
  },
  {
   "cell_type": "code",
   "execution_count": 6,
   "metadata": {},
   "outputs": [
    {
     "data": {
      "text/plain": [
       "[np.int64(2001),\n",
       " np.int64(2002),\n",
       " np.int64(2003),\n",
       " np.int64(2004),\n",
       " np.int64(2005),\n",
       " np.int64(2006),\n",
       " np.int64(2007),\n",
       " np.int64(2008),\n",
       " np.int64(2009),\n",
       " np.int64(2010),\n",
       " np.int64(2011),\n",
       " np.int64(2012),\n",
       " np.int64(2013),\n",
       " np.int64(2014),\n",
       " np.int64(2015),\n",
       " np.int64(2016),\n",
       " np.int64(2017),\n",
       " np.int64(2018),\n",
       " np.int64(2019),\n",
       " np.int64(2020),\n",
       " np.int64(2021)]"
      ]
     },
     "execution_count": 6,
     "metadata": {},
     "output_type": "execute_result"
    }
   ],
   "source": [
    "sorted(choice_data['year'].unique())"
   ]
  },
  {
   "cell_type": "code",
   "execution_count": null,
   "metadata": {},
   "outputs": [
    {
     "name": "stdout",
     "output_type": "stream",
     "text": [
      "train_size::: 1655\n",
      "test_size::: 317\n",
      "train_ids::: Index([   0,    1,    2,    3,    4,    5,    6,    7,    8,    9,\n",
      "       ...\n",
      "       1962, 1963, 1964, 1965, 1966, 1967, 1968, 1969, 1970, 1971],\n",
      "      dtype='int64', length=1655)\n",
      "test_ids::: Index([  46,   48,   49,   50,   51,   52,   53,   65,   66,   68,\n",
      "       ...\n",
      "       1922, 1923, 1924, 1925, 1926, 1927, 1928, 1929, 1957, 1958],\n",
      "      dtype='int64', length=317)\n"
     ]
    }
   ],
   "source": [
    "# split train & test based on \"year\"\n",
    "## full test data = 317\n",
    "# test_df = choice_data[:ANNO_IDX-1].query(\"year==2021\")\n",
    "train_df = choice_data[:ANNO_IDX-1].query(\"year<2021\")\n",
    "\n",
    "test_df = choice_data.query(\"year==2021\")\n",
    "# train_df = choice_data.query(\"year<2021\")\n",
    "\n",
    "print(\"train_size:::\", len(train_df))\n",
    "print(\"test_size:::\", len(test_df))\n",
    "\n",
    "print(\"train_ids:::\", train_df.index)\n",
    "print(\"test_ids:::\", test_df.index)"
   ]
  },
  {
   "cell_type": "code",
   "execution_count": null,
   "metadata": {},
   "outputs": [],
   "source": []
  }
 ],
 "metadata": {
  "kernelspec": {
   "display_name": "ME_241211",
   "language": "python",
   "name": "python3"
  },
  "language_info": {
   "codemirror_mode": {
    "name": "ipython",
    "version": 3
   },
   "file_extension": ".py",
   "mimetype": "text/x-python",
   "name": "python",
   "nbconvert_exporter": "python",
   "pygments_lexer": "ipython3",
   "version": "3.12.8"
  }
 },
 "nbformat": 4,
 "nbformat_minor": 2
}
