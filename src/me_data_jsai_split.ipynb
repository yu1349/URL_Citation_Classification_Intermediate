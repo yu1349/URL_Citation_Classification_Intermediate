{
 "cells": [
  {
   "cell_type": "code",
   "execution_count": 31,
   "metadata": {},
   "outputs": [],
   "source": [
    "import os\n",
    "import random\n",
    "import numpy as np\n",
    "import pandas as pd\n",
    "from collections import Counter"
   ]
  },
  {
   "cell_type": "code",
   "execution_count": 32,
   "metadata": {},
   "outputs": [],
   "source": [
    "# JSAI時点でのアノテーション量\n",
    "JSAI_LENGTH = 435"
   ]
  },
  {
   "cell_type": "code",
   "execution_count": 33,
   "metadata": {},
   "outputs": [],
   "source": [
    "def read_split_ids(ids_path:str) -> list[int]:\n",
    "    with open(ids_path, 'r', encoding='utf-8') as ids_file:\n",
    "        ids_lst = ids_file.readlines()\n",
    "    ids_lst = [int(id) for id in ids_lst]\n",
    "    return ids_lst\n",
    "\n",
    "train_ids = read_split_ids('./data/full_data_split/train_ids.txt')\n",
    "dev_ids = read_split_ids('./data/full_data_split/dev_ids.txt')\n",
    "test_ids = read_split_ids('./data/full_data_split/test_ids.txt')"
   ]
  },
  {
   "cell_type": "code",
   "execution_count": 34,
   "metadata": {},
   "outputs": [
    {
     "name": "stdout",
     "output_type": "stream",
     "text": [
      "full_train_size::: 1338\n",
      "full_dev_size::: 317\n",
      "full_test_size::: 317\n",
      "[804, 1116, 547, 16, 1435, 829, 1908, 988, 147, 1656, 736, 1306, 1871, 313, 121, 123, 1257, 562, 312, 1621, 652, 7, 13, 1153, 142, 551, 1859, 977, 375, 64, 1346, 1483, 735, 449, 141, 409, 1258, 289, 1743, 454, 626, 8, 1623, 1354, 18, 754, 89, 1094, 713, 575, 1303, 1680, 1476, 315, 1931, 607, 874, 452, 1744, 684, 1470, 865, 1723, 428, 166, 1002, 722, 884, 516, 1048, 1867, 281, 832, 529, 308, 1968, 1830, 288, 1246, 322, 771, 1626, 589, 1436, 877, 1343, 1407, 1685, 691, 926, 577, 352, 1357, 1010, 1062, 1683, 1498, 1619, 345, 867, 948, 1530, 1485, 1224, 1424, 150, 514, 602, 872, 1565, 351, 1938, 265, 1061, 1827, 1596, 1245, 1072, 774, 12, 1349, 17, 689, 1861, 1814, 908, 1182, 1844, 1563, 85, 530, 1930, 1058, 1351, 451, 1620, 136, 226, 1374, 1582, 1486, 212, 180, 1507, 1840, 609, 382, 419, 1693, 317, 120, 1448, 1526, 1500, 272, 765, 1914, 117, 143, 105, 91, 1023, 43, 1649, 1040, 557, 1907, 1356, 122, 1933, 211, 283, 198, 1514, 1912, 176, 882, 870, 1265, 1614, 888, 688, 420, 1237, 1618, 443, 1855, 1096, 290, 102, 773, 11, 1397, 938, 1742, 330, 714, 645, 1517, 1681, 84, 1670, 310, 1059, 1828, 1589, 229, 340, 1913, 15, 678, 1718, 1813, 1785, 1069, 220, 1523, 363, 435, 309, 1285, 1684, 564, 231, 398, 1628, 222, 1385, 26, 1290, 1794, 890, 384, 282, 975, 647, 1663, 1353, 392, 14, 762, 1373, 1492, 661, 279, 998, 958, 600, 1309, 1682, 371, 496, 1294, 1260, 1916, 1590, 395, 1724, 1466, 1884, 1482, 1508, 1174, 887, 421, 914, 1425, 720, 1348, 1256, 335, 813, 859, 548, 835, 1091, 1341, 1300, 712, 598, 705, 873, 746, 646, 1856, 1694, 563, 1084, 570, 1725, 779, 755, 1342, 1022, 957, 1583, 1143, 1564, 1474, 592, 1934, 1765, 393, 208, 467, 201, 932, 1218, 1860, 1088, 1566, 966, 1337, 1671, 1792, 532, 1967]\n"
     ]
    }
   ],
   "source": [
    "print(\"full_train_size:::\", len(train_ids))\n",
    "print(\"full_dev_size:::\", len(dev_ids))\n",
    "print(\"full_test_size:::\", len(test_ids))\n",
    "print(dev_ids)"
   ]
  },
  {
   "cell_type": "code",
   "execution_count": 35,
   "metadata": {},
   "outputs": [
    {
     "name": "stdout",
     "output_type": "stream",
     "text": [
      "jsai_train_size::: 277\n",
      "jsai_dev_size::: 80\n",
      "jsai_test_size::: 78\n"
     ]
    }
   ],
   "source": [
    "# data splitはfull dataに対して決定\n",
    "## その中で現在アノテーションされているサンプルを抽出\n",
    "train_ids = [train_id for train_id in train_ids if int(train_id) < JSAI_LENGTH]\n",
    "print(\"jsai_train_size:::\", len(train_ids))\n",
    "dev_ids = [dev_id for dev_id in dev_ids if int(dev_id) < JSAI_LENGTH]\n",
    "print(\"jsai_dev_size:::\", len(dev_ids))\n",
    "test_ids = [test_id for test_id in test_ids if int(test_id) < JSAI_LENGTH]\n",
    "print(\"jsai_test_size:::\", len(test_ids))"
   ]
  },
  {
   "cell_type": "code",
   "execution_count": 36,
   "metadata": {},
   "outputs": [
    {
     "name": "stdout",
     "output_type": "stream",
     "text": [
      "set()\n",
      "set()\n",
      "set()\n"
     ]
    }
   ],
   "source": [
    "print(set(dev_ids) & set(test_ids))\n",
    "print(set(test_ids) & set(train_ids))\n",
    "print(set(train_ids) & set(dev_ids))"
   ]
  },
  {
   "cell_type": "code",
   "execution_count": 37,
   "metadata": {},
   "outputs": [
    {
     "name": "stdout",
     "output_type": "stream",
     "text": [
      "[16, 147, 313, 121, 123, 312, 7, 13, 142, 375, 64, 141, 409, 289, 8, 18, 89, 315, 428, 166, 281, 308, 288, 322, 352, 345, 150, 351, 265, 12, 17, 85, 136, 226, 212, 180, 382, 419, 317, 120, 272, 117, 143, 105, 91, 43, 122, 211, 283, 198, 176, 420, 290, 102, 11, 330, 84, 310, 229, 340, 15, 220, 363, 309, 231, 398, 222, 26, 384, 282, 392, 14, 279, 371, 395, 421, 335, 393, 208, 201]\n",
      "[0, 1, 2, 3, 4, 5, 6, 9, 10, 19, 20, 21, 22, 23, 24, 25, 27, 28, 29, 30, 31, 32, 33, 34, 35, 36, 37, 38, 39, 40, 41, 42, 44, 45, 47, 54, 55, 56, 57, 58, 59, 60, 61, 62, 63, 67, 75, 76, 77, 78, 79, 80, 81, 82, 83, 87, 88, 90, 92, 93, 94, 95, 96, 98, 99, 100, 103, 104, 106, 107, 108, 109, 110, 111, 112, 113, 114, 118, 119, 126, 127, 128, 129, 130, 131, 132, 133, 134, 135, 137, 138, 139, 140, 144, 146, 148, 149, 151, 160, 161, 162, 163, 164, 165, 167, 169, 170, 175, 177, 178, 179, 181, 182, 183, 184, 185, 195, 196, 197, 199, 202, 206, 207, 209, 210, 213, 214, 215, 216, 217, 218, 219, 221, 223, 224, 225, 227, 228, 230, 232, 233, 234, 235, 236, 237, 238, 239, 240, 241, 242, 243, 244, 245, 246, 247, 248, 249, 253, 254, 255, 256, 257, 258, 259, 260, 261, 262, 263, 264, 271, 273, 274, 275, 276, 277, 278, 280, 284, 285, 286, 287, 297, 298, 299, 300, 301, 302, 303, 304, 305, 306, 307, 311, 314, 316, 318, 319, 320, 321, 323, 324, 325, 326, 327, 328, 329, 331, 332, 333, 334, 336, 337, 338, 339, 341, 342, 343, 344, 346, 347, 348, 349, 350, 353, 354, 355, 357, 358, 359, 360, 361, 362, 364, 365, 366, 367, 368, 369, 370, 372, 373, 374, 376, 377, 378, 379, 380, 381, 383, 385, 386, 387, 390, 391, 394, 396, 397, 399, 410, 411, 412, 413, 414, 415, 416, 422, 423, 424, 425, 426, 427, 429, 430, 431, 432, 433, 434]\n"
     ]
    }
   ],
   "source": [
    "# インデックスの確認\n",
    "print(dev_ids)\n",
    "print(train_ids)"
   ]
  },
  {
   "cell_type": "code",
   "execution_count": 38,
   "metadata": {},
   "outputs": [
    {
     "name": "stdout",
     "output_type": "stream",
     "text": [
      "435\n",
      "OK\n"
     ]
    }
   ],
   "source": [
    "# サイズチェック\n",
    "print(len(train_ids) + len(dev_ids) + len(test_ids))\n",
    "if (len(train_ids) + len(dev_ids) + len(test_ids) == JSAI_LENGTH):\n",
    "    print('OK')\n"
   ]
  },
  {
   "cell_type": "code",
   "execution_count": 39,
   "metadata": {},
   "outputs": [],
   "source": [
    "os.makedirs('./data/jsai_data_split', exist_ok=True)\n",
    "with open('./data/jsai_data_split/test_ids.txt', 'w') as test_idx_file:\n",
    "    for test_id in test_ids:\n",
    "        test_idx_file.write(str(test_id)+'\\n')\n",
    "\n",
    "with open('./data/jsai_data_split/dev_ids.txt', 'w') as dev_idx_file:\n",
    "    for dev_id in dev_ids:\n",
    "        dev_idx_file.write(str(dev_id)+'\\n')\n",
    "\n",
    "with open('./data/jsai_data_split/train_ids.txt', 'w') as train_idx_file:\n",
    "    for train_id in train_ids:\n",
    "        train_idx_file.write(str(train_id)+'\\n')"
   ]
  },
  {
   "cell_type": "code",
   "execution_count": null,
   "metadata": {},
   "outputs": [],
   "source": []
  }
 ],
 "metadata": {
  "kernelspec": {
   "display_name": "ME_241211",
   "language": "python",
   "name": "python3"
  },
  "language_info": {
   "codemirror_mode": {
    "name": "ipython",
    "version": 3
   },
   "file_extension": ".py",
   "mimetype": "text/x-python",
   "name": "python",
   "nbconvert_exporter": "python",
   "pygments_lexer": "ipython3",
   "version": "3.12.8"
  }
 },
 "nbformat": 4,
 "nbformat_minor": 2
}
