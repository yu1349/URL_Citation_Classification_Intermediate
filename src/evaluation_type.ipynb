{
 "cells": [
  {
   "cell_type": "code",
   "execution_count": 2,
   "metadata": {},
   "outputs": [],
   "source": [
    "import pandas as pd\n",
    "import numpy as np\n",
    "import json\n",
    "from sklearn.model_selection import train_test_split\n",
    "from sklearn.metrics import accuracy_score, precision_score, recall_score, f1_score"
   ]
  },
  {
   "cell_type": "code",
   "execution_count": 3,
   "metadata": {},
   "outputs": [],
   "source": [
    "GOLD_DATA_PATH = \"/data/group1/z40436a/ME/URL_Citation_Classification_Intermediate/data/all_data.csv\"\n",
    "csv_dataset = pd.read_csv(GOLD_DATA_PATH, index_col=0)\n",
    "model_names = [\"meta-llama/Llama-3.1-8B-Instruct\", \"google/gemma-2-9b-it\", \"mistralai/Mistral-Nemo-Instruct-2407\"]"
   ]
  },
  {
   "cell_type": "code",
   "execution_count": 4,
   "metadata": {},
   "outputs": [],
   "source": [
    "def pred_type_and_func(LLM_responses: json) -> tuple[list, list]:\n",
    "    type_preds = []\n",
    "    func_preds = []\n",
    "\n",
    "    for each_response in LLM_responses:\n",
    "        # print(each_response[-1]['generated_text'])\n",
    "        completion = each_response[-1]['generated_text'][-1]\n",
    "        if completion['role'] == 'assistant':\n",
    "            try:\n",
    "                # print(\"TYPE:\", completion['content'].split(\"TYPE: \")[1].split()[0])\n",
    "                type_preds.append(completion['content'].split(\"TYPE: \")[1].split()[0])\n",
    "            except:\n",
    "                # print(\"format error\")\n",
    "                type_preds.append(\"FormatError\")\n",
    "            try:\n",
    "                # print(\"FUNCTION:\", completion['content'].split(\"FUNCTION: \")[1].split()[0])\n",
    "                func_preds.append(completion['content'].split(\"FUNCTION: \")[1].split()[0])\n",
    "            except:\n",
    "                # print(\"format error\")\n",
    "                func_preds.append(\"FormatError\")\n",
    "\n",
    "    return type_preds, func_preds"
   ]
  },
  {
   "cell_type": "code",
   "execution_count": 5,
   "metadata": {},
   "outputs": [],
   "source": [
    "def evaluation_metrics(gold:list[str], pred:list[str], eval_mode:str) -> dict:\n",
    "    if eval_mode == \"type\":\n",
    "        label_set = [\"Tool\", \"Code\", \"Dataset\", \"Knowledge\", \"DataSource\", \"Document\", \"Paper\", \"Media\", \"Website\", \"Mixed\"]\n",
    "    elif eval_mode == \"func\":\n",
    "        label_set = [\"Use\", \"Produce\", \"Compare\", \"Extend\", \"Introduce\", \"Other\"]\n",
    "    else:\n",
    "        print(\"set apprepriate eval_mode\")\n",
    "\n",
    "    acc = accuracy_score(gold, pred)\n",
    "    pre = precision_score(gold, pred, labels=label_set, average=\"macro\", zero_division=0)\n",
    "    rec = recall_score(gold, pred, average=\"macro\", zero_division=0)\n",
    "    if pre * rec == 0:\n",
    "        f1 = 0\n",
    "    else:\n",
    "        f1 = 2 * pre * rec / (pre + rec)\n",
    "    err_rate = pred.count('FormatError') / len(pred)\n",
    "\n",
    "    return {\"acc\": acc, \"pre\":pre, \"rec\":rec, \"f1\":f1, \"err\": err_rate}"
   ]
  },
  {
   "cell_type": "code",
   "execution_count": 6,
   "metadata": {},
   "outputs": [],
   "source": [
    "def ave_metrics_seed(metrics_lst:list[dict]) -> dict:\n",
    "    \"\"\"\n",
    "    Parameters:\n",
    "        dict_list (list): \n",
    "\n",
    "    Returns:\n",
    "        dict: \n",
    "    \"\"\"\n",
    "    if not metrics_lst:\n",
    "        return {}\n",
    "\n",
    "    # 初期化\n",
    "    result = {}\n",
    "    num_dicts = len(metrics_lst)\n",
    "\n",
    "    # キーごとに値を合計\n",
    "    for d in metrics_lst:\n",
    "        for key, value in d.items():\n",
    "            result[key] = result.get(key, 0) + value\n",
    "\n",
    "    # 平均を計算\n",
    "    for key in result:\n",
    "        result[key] /= num_dicts\n",
    "\n",
    "    return result"
   ]
  },
  {
   "cell_type": "code",
   "execution_count": 7,
   "metadata": {},
   "outputs": [],
   "source": [
    "def round_print(input_dict:dict, round_num:int=3):\n",
    "    rounded_data = {key: round(value, round_num) for key, value in input_dict.items()}\n",
    "    print(rounded_data)"
   ]
  },
  {
   "cell_type": "code",
   "execution_count": 8,
   "metadata": {},
   "outputs": [],
   "source": [
    "show_types = []\n",
    "show_funcs = []"
   ]
  },
  {
   "cell_type": "code",
   "execution_count": 9,
   "metadata": {},
   "outputs": [],
   "source": [
    "lst_for_graph = []"
   ]
  },
  {
   "cell_type": "code",
   "execution_count": 10,
   "metadata": {},
   "outputs": [
    {
     "name": "stdout",
     "output_type": "stream",
     "text": [
      "meta-llama/Llama-3.1-8B-Instruct\n",
      "icl_method = random\n",
      "1-shot\n",
      "TYPE:{'acc': 0.531, 'pre': 0.551, 'rec': 0.461, 'f1': 0.502, 'err': 0.002}\n",
      "FUNC:{'acc': 0.426, 'pre': 0.247, 'rec': 0.214, 'f1': 0.229, 'err': 0.026}\n",
      "2-shot\n",
      "TYPE:{'acc': 0.516, 'pre': 0.535, 'rec': 0.43, 'f1': 0.476, 'err': 0.003}\n",
      "FUNC:{'acc': 0.444, 'pre': 0.298, 'rec': 0.241, 'f1': 0.259, 'err': 0.022}\n",
      "3-shot\n",
      "TYPE:{'acc': 0.525, 'pre': 0.536, 'rec': 0.451, 'f1': 0.489, 'err': 0.003}\n",
      "FUNC:{'acc': 0.496, 'pre': 0.368, 'rec': 0.286, 'f1': 0.321, 'err': 0.011}\n",
      "4-shot\n",
      "TYPE:{'acc': 0.52, 'pre': 0.531, 'rec': 0.448, 'f1': 0.484, 'err': 0.002}\n",
      "FUNC:{'acc': 0.517, 'pre': 0.413, 'rec': 0.31, 'f1': 0.353, 'err': 0.006}\n",
      "5-shot\n",
      "TYPE:{'acc': 0.527, 'pre': 0.539, 'rec': 0.458, 'f1': 0.494, 'err': 0.002}\n",
      "FUNC:{'acc': 0.595, 'pre': 0.473, 'rec': 0.396, 'f1': 0.43, 'err': 0.001}\n",
      "google/gemma-2-9b-it\n",
      "icl_method = random\n",
      "1-shot\n",
      "TYPE:{'acc': 0.216, 'pre': 0.404, 'rec': 0.16, 'f1': 0.224, 'err': 0.61}\n",
      "FUNC:{'acc': 0.02, 'pre': 0.215, 'rec': 0.01, 'f1': 0.02, 'err': 0.979}\n",
      "2-shot\n",
      "TYPE:{'acc': 0.496, 'pre': 0.445, 'rec': 0.408, 'f1': 0.425, 'err': 0.003}\n",
      "FUNC:{'acc': 0.664, 'pre': 0.563, 'rec': 0.415, 'f1': 0.477, 'err': 0.017}\n",
      "3-shot\n",
      "TYPE:{'acc': 0.501, 'pre': 0.438, 'rec': 0.42, 'f1': 0.429, 'err': 0.0}\n",
      "FUNC:{'acc': 0.711, 'pre': 0.588, 'rec': 0.451, 'f1': 0.509, 'err': 0.025}\n",
      "4-shot\n",
      "TYPE:{'acc': 0.496, 'pre': 0.469, 'rec': 0.424, 'f1': 0.444, 'err': 0.0}\n",
      "FUNC:{'acc': 0.764, 'pre': 0.635, 'rec': 0.513, 'f1': 0.566, 'err': 0.016}\n",
      "5-shot\n",
      "TYPE:{'acc': 0.489, 'pre': 0.465, 'rec': 0.414, 'f1': 0.438, 'err': 0.0}\n",
      "FUNC:{'acc': 0.792, 'pre': 0.649, 'rec': 0.537, 'f1': 0.586, 'err': 0.013}\n",
      "mistralai/Mistral-Nemo-Instruct-2407\n",
      "icl_method = random\n",
      "1-shot\n",
      "TYPE:{'acc': 0.042, 'pre': 0.122, 'rec': 0.035, 'f1': 0.054, 'err': 0.909}\n",
      "FUNC:{'acc': 0.068, 'pre': 0.162, 'rec': 0.038, 'f1': 0.061, 'err': 0.926}\n",
      "2-shot\n",
      "TYPE:{'acc': 0.512, 'pre': 0.503, 'rec': 0.405, 'f1': 0.447, 'err': 0.011}\n",
      "FUNC:{'acc': 0.486, 'pre': 0.315, 'rec': 0.28, 'f1': 0.295, 'err': 0.056}\n",
      "3-shot\n",
      "TYPE:{'acc': 0.525, 'pre': 0.507, 'rec': 0.438, 'f1': 0.469, 'err': 0.002}\n",
      "FUNC:{'acc': 0.462, 'pre': 0.269, 'rec': 0.252, 'f1': 0.26, 'err': 0.059}\n",
      "4-shot\n",
      "TYPE:{'acc': 0.524, 'pre': 0.501, 'rec': 0.419, 'f1': 0.456, 'err': 0.009}\n",
      "FUNC:{'acc': 0.531, 'pre': 0.323, 'rec': 0.302, 'f1': 0.31, 'err': 0.038}\n",
      "5-shot\n",
      "TYPE:{'acc': 0.523, 'pre': 0.486, 'rec': 0.413, 'f1': 0.446, 'err': 0.011}\n",
      "FUNC:{'acc': 0.542, 'pre': 0.346, 'rec': 0.307, 'f1': 0.325, 'err': 0.052}\n"
     ]
    }
   ],
   "source": [
    "for model_name in model_names:\n",
    "    print(model_name)\n",
    "    for icl_method in [\"random\", \"bm25\", \"encoder\"]:\n",
    "        if icl_method == \"bm25\" or icl_method == \"encoder\":\n",
    "            continue\n",
    "        print(f\"icl_method = {icl_method}\")\n",
    "        for k in range(1, 5+1):\n",
    "            print(f\"{str(k)}-shot\")\n",
    "            metrics_types_seeds = []\n",
    "            metrics_funcs_seeds = []\n",
    "            for seed in [111, 5374, 93279]:\n",
    "                # print(seed)\n",
    "                # create gold answer\n",
    "                train_df, eval_df = train_test_split(csv_dataset, test_size = 0.1, random_state=int(seed))\n",
    "                gold_types, gold_funcs = [], []\n",
    "                for i, row in eval_df.iterrows():\n",
    "                    gold_types.append(row['type'])\n",
    "                    gold_funcs.append(row['function'].split(\"（\")[0])\n",
    "\n",
    "                # create pred answer\n",
    "                pred_data_path = f\"/data/group1/z40436a/ME/URL_Citation_Classification_Intermediate/result/output/{model_name}/{icl_method}/{str(seed)}_{str(k)}shot.json\"\n",
    "                with open(pred_data_path, 'r') as json_file:\n",
    "                    LLM_responses = json.load(json_file)\n",
    "\n",
    "                pred_types, pred_funcs = pred_type_and_func(LLM_responses)\n",
    "\n",
    "                pred_types = [pred if pred in list(set(gold_types)) else \"FormatError\" for pred in pred_types]\n",
    "                pred_funcs = [pred if pred in list(set(gold_funcs)) else \"FormatError\" for pred in pred_funcs]\n",
    "\n",
    "                metrics_types_seeds.append(evaluation_metrics(gold_types, pred_types, \"type\"))\n",
    "                metrics_funcs_seeds.append(evaluation_metrics(gold_funcs, pred_funcs, \"func\"))\n",
    "\n",
    "            \n",
    "            print(\"TYPE:\", end=\"\")\n",
    "            round_print(ave_metrics_seed(metrics_types_seeds))\n",
    "            show_types.append(ave_metrics_seed(metrics_types_seeds))\n",
    "            print(\"FUNC:\", end=\"\")\n",
    "            round_print(ave_metrics_seed(metrics_funcs_seeds))\n",
    "            show_funcs.append(ave_metrics_seed(metrics_funcs_seeds))"
   ]
  },
  {
   "cell_type": "code",
   "execution_count": 11,
   "metadata": {},
   "outputs": [
    {
     "data": {
      "image/png": "[encoded data removed]",
      "text/plain": [
       "<Figure size 1000x600 with 1 Axes>"
      ]
     },
     "metadata": {},
     "output_type": "display_data"
    }
   ],
   "source": [
    "import matplotlib.pyplot as plt\n",
    "\n",
    "# データをロード\n",
    "data = show_types\n",
    "\n",
    "# f1スコアを取得\n",
    "f1_scores = [entry['f1'] for entry in data]\n",
    "\n",
    "# 5個ずつに分割\n",
    "chunk_size = 5\n",
    "chunks = [f1_scores[i:i + chunk_size] for i in range(0, len(f1_scores), chunk_size)]\n",
    "\n",
    "# 図示\n",
    "plt.figure(figsize=(10, 6))\n",
    "for i, chunk in enumerate(chunks):\n",
    "    plt.plot(chunk, label=model_names[i], marker='o')\n",
    "\n",
    "# グラフの装飾\n",
    "plt.title(\"TYPE classification\")\n",
    "plt.xlabel(\"k-shot\")\n",
    "plt.xticks(range(5), range(1, 6))\n",
    "plt.ylabel(\"macro-F1\")\n",
    "plt.ylim(0.0, 0.55)\n",
    "plt.legend()\n",
    "plt.grid()\n",
    "plt.show()"
   ]
  },
  {
   "cell_type": "code",
   "execution_count": 12,
   "metadata": {},
   "outputs": [],
   "source": [
    "# 299 * 3 (seeds)"
   ]
  },
  {
   "cell_type": "code",
   "execution_count": 13,
   "metadata": {},
   "outputs": [
    {
     "name": "stdout",
     "output_type": "stream",
     "text": [
      "TYPE:{'acc': 0.527, 'pre': 0.519, 'rec': 0.437, 'f1': 0.474, 'err': 0.007}\n",
      "FUNC:{'acc': 0.484, 'pre': 0.297, 'rec': 0.261, 'f1': 0.277, 'err': 0.039}\n"
     ]
    }
   ],
   "source": [
    "model_name = model_names[0]\n",
    "icl_method = \"random\"\n",
    "k = 1\n",
    "golds = []\n",
    "preds = []\n",
    "for seed in [111, 5374, 93279]:\n",
    "    # print(seed)\n",
    "    # create gold answer\n",
    "    train_df, eval_df = train_test_split(csv_dataset, test_size = 0.1, random_state=int(seed))\n",
    "    gold_types, gold_funcs = [], []\n",
    "    for i, row in eval_df.iterrows():\n",
    "        gold_types.append(row['type'])\n",
    "        gold_funcs.append(row['function'].split(\"（\")[0])\n",
    "    golds += gold_types\n",
    "\n",
    "    # create pred answer\n",
    "    pred_data_path = f\"/data/group1/z40436a/ME/URL_Citation_Classification_Intermediate/result/output/{model_name}/{icl_method}/{str(seed)}_{str(k)}shot.json\"\n",
    "    with open(pred_data_path, 'r') as json_file:\n",
    "        LLM_responses = json.load(json_file)\n",
    "\n",
    "    pred_types, pred_funcs = pred_type_and_func(LLM_responses)\n",
    "\n",
    "    pred_types = [pred if pred in list(set(gold_types)) else \"FormatError\" for pred in pred_types]\n",
    "    preds += pred_types\n",
    "    pred_funcs = [pred if pred in list(set(gold_funcs)) else \"FormatError\" for pred in pred_funcs]\n",
    "\n",
    "    metrics_types_seeds.append(evaluation_metrics(gold_types, pred_types, \"type\"))\n",
    "    metrics_funcs_seeds.append(evaluation_metrics(gold_funcs, pred_funcs, \"func\"))\n",
    "\n",
    "\n",
    "print(\"TYPE:\", end=\"\")\n",
    "round_print(ave_metrics_seed(metrics_types_seeds))\n",
    "show_types.append(ave_metrics_seed(metrics_types_seeds))\n",
    "print(\"FUNC:\", end=\"\")\n",
    "round_print(ave_metrics_seed(metrics_funcs_seeds))\n",
    "show_funcs.append(ave_metrics_seed(metrics_funcs_seeds))"
   ]
  },
  {
   "cell_type": "code",
   "execution_count": 14,
   "metadata": {},
   "outputs": [
    {
     "name": "stdout",
     "output_type": "stream",
     "text": [
      "897\n"
     ]
    }
   ],
   "source": [
    "print(len(golds))"
   ]
  },
  {
   "cell_type": "code",
   "execution_count": 15,
   "metadata": {},
   "outputs": [
    {
     "name": "stdout",
     "output_type": "stream",
     "text": [
      "OK\n"
     ]
    }
   ],
   "source": [
    "if len(golds) == len(preds) == (len(eval_df)*3):\n",
    "    print(\"OK\")"
   ]
  },
  {
   "cell_type": "code",
   "execution_count": 16,
   "metadata": {},
   "outputs": [
    {
     "data": {
      "text/plain": [
       "Counter({('Tool', 'Tool'): 110,\n",
       "         ('Code', 'Code'): 108,\n",
       "         ('Dataset', 'Dataset'): 56,\n",
       "         ('Paper', 'Paper'): 56,\n",
       "         ('Website', 'Website'): 47,\n",
       "         ('Tool', 'Code'): 44,\n",
       "         ('Document', 'Document'): 32,\n",
       "         ('DataSource', 'DataSource'): 27,\n",
       "         ('Mixed', 'Mixed'): 25,\n",
       "         ('Dataset', 'DataSource'): 23,\n",
       "         ('DataSource', 'Dataset'): 22,\n",
       "         ('Code', 'Tool'): 21,\n",
       "         ('Mixed', 'Code'): 19,\n",
       "         ('Website', 'DataSource'): 19,\n",
       "         ('Paper', 'Document'): 18,\n",
       "         ('Knowledge', 'Code'): 16,\n",
       "         ('Website', 'Tool'): 14,\n",
       "         ('Tool', 'Website'): 13,\n",
       "         ('Knowledge', 'DataSource'): 13,\n",
       "         ('Knowledge', 'Knowledge'): 12,\n",
       "         ('Knowledge', 'Tool'): 11,\n",
       "         ('Knowledge', 'Dataset'): 11,\n",
       "         ('Website', 'Dataset'): 10,\n",
       "         ('DataSource', 'Website'): 10,\n",
       "         ('Document', 'Code'): 9,\n",
       "         ('Dataset', 'Website'): 9,\n",
       "         ('Document', 'DataSource'): 8,\n",
       "         ('Code', 'Website'): 7,\n",
       "         ('Paper', 'Website'): 6,\n",
       "         ('Website', 'Code'): 6,\n",
       "         ('Mixed', 'Dataset'): 5,\n",
       "         ('DataSource', 'Tool'): 5,\n",
       "         ('Knowledge', 'Website'): 5,\n",
       "         ('Document', 'Knowledge'): 5,\n",
       "         ('Document', 'Website'): 5,\n",
       "         ('Media', 'Website'): 4,\n",
       "         ('Website', 'Document'): 4,\n",
       "         ('Website', 'Knowledge'): 4,\n",
       "         ('DataSource', 'Code'): 4,\n",
       "         ('Tool', 'Mixed'): 4,\n",
       "         ('Paper', 'Code'): 4,\n",
       "         ('Tool', 'Dataset'): 3,\n",
       "         ('Code', 'DataSource'): 3,\n",
       "         ('Dataset', 'Tool'): 3,\n",
       "         ('Dataset', 'Knowledge'): 3,\n",
       "         ('Media', 'Media'): 3,\n",
       "         ('Document', 'Mixed'): 3,\n",
       "         ('Website', 'Mixed'): 3,\n",
       "         ('Tool', 'Document'): 3,\n",
       "         ('Dataset', 'Code'): 2,\n",
       "         ('Document', 'Tool'): 2,\n",
       "         ('Media', 'Dataset'): 2,\n",
       "         ('Tool', 'DataSource'): 2,\n",
       "         ('Mixed', 'Website'): 2,\n",
       "         ('Document', 'Media'): 2,\n",
       "         ('Paper', 'FormatError'): 2,\n",
       "         ('Code', 'Document'): 2,\n",
       "         ('Mixed', 'DataSource'): 2,\n",
       "         ('Document', 'Dataset'): 2,\n",
       "         ('Dataset', 'Mixed'): 2,\n",
       "         ('Knowledge', 'Document'): 2,\n",
       "         ('Mixed', 'Document'): 2,\n",
       "         ('Code', 'Dataset'): 2,\n",
       "         ('Media', 'Tool'): 2,\n",
       "         ('Paper', 'Tool'): 2,\n",
       "         ('DataSource', 'Document'): 2,\n",
       "         ('Paper', 'Knowledge'): 1,\n",
       "         ('Document', 'Paper'): 1,\n",
       "         ('Tool', 'Knowledge'): 1,\n",
       "         ('Mixed', 'Tool'): 1,\n",
       "         ('Code', 'Mixed'): 1,\n",
       "         ('DataSource', 'Knowledge'): 1,\n",
       "         ('Mixed', 'Knowledge'): 1,\n",
       "         ('DataSource', 'Mixed'): 1})"
      ]
     },
     "execution_count": 16,
     "metadata": {},
     "output_type": "execute_result"
    }
   ],
   "source": [
    "import collections\n",
    "collections.Counter(zip(golds, preds))"
   ]
  },
  {
   "cell_type": "code",
   "execution_count": 17,
   "metadata": {},
   "outputs": [
    {
     "name": "stdout",
     "output_type": "stream",
     "text": [
      "TYPE:{'acc': 0.527, 'pre': 0.525, 'rec': 0.444, 'f1': 0.481, 'err': 0.005}\n",
      "FUNC:{'acc': 0.521, 'pre': 0.355, 'rec': 0.306, 'f1': 0.328, 'err': 0.026}\n"
     ]
    }
   ],
   "source": [
    "model_name = model_names[0]\n",
    "icl_method = \"random\"\n",
    "k = 5\n",
    "golds = []\n",
    "preds = []\n",
    "for seed in [111, 5374, 93279]:\n",
    "    # print(seed)\n",
    "    # create gold answer\n",
    "    train_df, eval_df = train_test_split(csv_dataset, test_size = 0.1, random_state=int(seed))\n",
    "    gold_types, gold_funcs = [], []\n",
    "    for i, row in eval_df.iterrows():\n",
    "        gold_types.append(row['type'])\n",
    "        gold_funcs.append(row['function'].split(\"（\")[0])\n",
    "    golds += gold_types\n",
    "\n",
    "    # create pred answer\n",
    "    pred_data_path = f\"/data/group1/z40436a/ME/URL_Citation_Classification_Intermediate/result/output/{model_name}/{icl_method}/{str(seed)}_{str(k)}shot.json\"\n",
    "    with open(pred_data_path, 'r') as json_file:\n",
    "        LLM_responses = json.load(json_file)\n",
    "\n",
    "    pred_types, pred_funcs = pred_type_and_func(LLM_responses)\n",
    "\n",
    "    pred_types = [pred if pred in list(set(gold_types)) else \"FormatError\" for pred in pred_types]\n",
    "    preds += pred_types\n",
    "    pred_funcs = [pred if pred in list(set(gold_funcs)) else \"FormatError\" for pred in pred_funcs]\n",
    "\n",
    "    metrics_types_seeds.append(evaluation_metrics(gold_types, pred_types, \"type\"))\n",
    "    metrics_funcs_seeds.append(evaluation_metrics(gold_funcs, pred_funcs, \"func\"))\n",
    "\n",
    "\n",
    "print(\"TYPE:\", end=\"\")\n",
    "round_print(ave_metrics_seed(metrics_types_seeds))\n",
    "show_types.append(ave_metrics_seed(metrics_types_seeds))\n",
    "print(\"FUNC:\", end=\"\")\n",
    "round_print(ave_metrics_seed(metrics_funcs_seeds))\n",
    "show_funcs.append(ave_metrics_seed(metrics_funcs_seeds))"
   ]
  },
  {
   "cell_type": "code",
   "execution_count": 18,
   "metadata": {},
   "outputs": [
    {
     "data": {
      "text/plain": [
       "Counter({('Tool', 'Tool'): 118,\n",
       "         ('Code', 'Code'): 96,\n",
       "         ('Paper', 'Paper'): 65,\n",
       "         ('Dataset', 'Dataset'): 57,\n",
       "         ('Website', 'Website'): 46,\n",
       "         ('Tool', 'Code'): 43,\n",
       "         ('DataSource', 'DataSource'): 31,\n",
       "         ('Document', 'Document'): 28,\n",
       "         ('Dataset', 'DataSource'): 26,\n",
       "         ('Mixed', 'Code'): 25,\n",
       "         ('Code', 'Tool'): 25,\n",
       "         ('Website', 'DataSource'): 23,\n",
       "         ('DataSource', 'Dataset'): 21,\n",
       "         ('Website', 'Tool'): 17,\n",
       "         ('Knowledge', 'Code'): 15,\n",
       "         ('Knowledge', 'Knowledge'): 15,\n",
       "         ('Knowledge', 'Dataset'): 15,\n",
       "         ('Mixed', 'Mixed'): 14,\n",
       "         ('Knowledge', 'Tool'): 11,\n",
       "         ('Tool', 'Website'): 10,\n",
       "         ('Document', 'Knowledge'): 10,\n",
       "         ('DataSource', 'Website'): 9,\n",
       "         ('Document', 'DataSource'): 9,\n",
       "         ('Paper', 'Document'): 9,\n",
       "         ('Website', 'Dataset'): 9,\n",
       "         ('Code', 'Website'): 8,\n",
       "         ('Mixed', 'Dataset'): 6,\n",
       "         ('Document', 'Code'): 6,\n",
       "         ('Knowledge', 'DataSource'): 6,\n",
       "         ('DataSource', 'Tool'): 5,\n",
       "         ('Paper', 'Website'): 5,\n",
       "         ('Website', 'Knowledge'): 5,\n",
       "         ('Document', 'Media'): 5,\n",
       "         ('Dataset', 'Website'): 5,\n",
       "         ('Dataset', 'Code'): 4,\n",
       "         ('Knowledge', 'Website'): 4,\n",
       "         ('DataSource', 'Code'): 4,\n",
       "         ('Website', 'Document'): 4,\n",
       "         ('Dataset', 'Knowledge'): 4,\n",
       "         ('Mixed', 'Tool'): 4,\n",
       "         ('Code', 'Mixed'): 4,\n",
       "         ('Code', 'Knowledge'): 4,\n",
       "         ('Paper', 'Code'): 4,\n",
       "         ('Document', 'Website'): 3,\n",
       "         ('Tool', 'Dataset'): 3,\n",
       "         ('Media', 'Website'): 3,\n",
       "         ('Document', 'Tool'): 3,\n",
       "         ('Knowledge', 'Document'): 3,\n",
       "         ('Website', 'Code'): 3,\n",
       "         ('Code', 'DataSource'): 3,\n",
       "         ('Media', 'Media'): 3,\n",
       "         ('Paper', 'Tool'): 3,\n",
       "         ('Tool', 'DataSource'): 3,\n",
       "         ('Document', 'Mixed'): 2,\n",
       "         ('Media', 'Dataset'): 2,\n",
       "         ('Dataset', 'Tool'): 2,\n",
       "         ('Mixed', 'Website'): 2,\n",
       "         ('Paper', 'FormatError'): 2,\n",
       "         ('Code', 'Document'): 2,\n",
       "         ('Mixed', 'DataSource'): 2,\n",
       "         ('Tool', 'Knowledge'): 2,\n",
       "         ('Document', 'Dataset'): 2,\n",
       "         ('Code', 'Dataset'): 2,\n",
       "         ('Media', 'Tool'): 2,\n",
       "         ('Mixed', 'Document'): 2,\n",
       "         ('Mixed', 'Knowledge'): 2,\n",
       "         ('Document', 'Paper'): 1,\n",
       "         ('DataSource', 'Knowledge'): 1,\n",
       "         ('Paper', 'Knowledge'): 1,\n",
       "         ('Knowledge', 'Mixed'): 1,\n",
       "         ('Media', 'DataSource'): 1,\n",
       "         ('DataSource', 'Document'): 1,\n",
       "         ('Tool', 'Document'): 1})"
      ]
     },
     "execution_count": 18,
     "metadata": {},
     "output_type": "execute_result"
    }
   ],
   "source": [
    "collections.Counter(zip(golds, preds))"
   ]
  }
 ],
 "metadata": {
  "kernelspec": {
   "display_name": "ME_241211",
   "language": "python",
   "name": "python3"
  },
  "language_info": {
   "codemirror_mode": {
    "name": "ipython",
    "version": 3
   },
   "file_extension": ".py",
   "mimetype": "text/x-python",
   "name": "python",
   "nbconvert_exporter": "python",
   "pygments_lexer": "ipython3",
   "version": "3.12.8"
  }
 },
 "nbformat": 4,
 "nbformat_minor": 2
}
